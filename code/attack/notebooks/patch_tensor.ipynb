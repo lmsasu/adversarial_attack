{
 "cells": [
  {
   "cell_type": "code",
   "execution_count": 2,
   "id": "b21f3fe2d313cbef",
   "metadata": {
    "ExecuteTime": {
     "end_time": "2023-11-10T11:26:23.262374Z",
     "start_time": "2023-11-10T11:26:23.255375Z"
    }
   },
   "outputs": [],
   "source": [
    "import os.path\n",
    "import shutil\n",
    "from collections import defaultdict\n",
    "\n",
    "import cv2\n",
    "import numpy as np\n",
    "import torch\n",
    "from torch.utils.data import DataLoader\n",
    "from torchvision.datasets import ImageFolder\n",
    "from torchvision.models import resnet18, ResNet18_Weights\n",
    "from torchvision import transforms\n",
    "from tqdm import tqdm\n",
    "\n",
    "import torchvision\n"
   ]
  },
  {
   "cell_type": "code",
   "execution_count": 7,
   "id": "7e3d1c68e4801258",
   "metadata": {
    "ExecuteTime": {
     "end_time": "2023-11-10T11:27:25.349657Z",
     "start_time": "2023-11-10T11:27:25.344618Z"
    }
   },
   "outputs": [],
   "source": [
    "path = r'D:\\work\\cercetare\\2022\\ai_legs\\cod\\adversarial_attack_DiAP\\code\\attack\\images\\test_images\\1=goldfish\\0.jpg'"
   ]
  },
  {
   "cell_type": "code",
   "execution_count": 8,
   "id": "623bbf29beaac40",
   "metadata": {
    "ExecuteTime": {
     "end_time": "2023-11-10T11:27:25.514606Z",
     "start_time": "2023-11-10T11:27:25.491265Z"
    }
   },
   "outputs": [],
   "source": [
    "img_tensor = torchvision.io.read_image(path)"
   ]
  },
  {
   "cell_type": "code",
   "execution_count": 10,
   "id": "559dfff34f943f88",
   "metadata": {
    "ExecuteTime": {
     "end_time": "2023-11-10T11:27:33.350305Z",
     "start_time": "2023-11-10T11:27:33.341962Z"
    }
   },
   "outputs": [
    {
     "data": {
      "text/plain": [
       "torch.Size([3, 224, 224])"
      ]
     },
     "execution_count": 10,
     "metadata": {},
     "output_type": "execute_result"
    }
   ],
   "source": [
    "img_tensor.shape"
   ]
  },
  {
   "cell_type": "code",
   "execution_count": null,
   "id": "4cc89180",
   "metadata": {},
   "outputs": [],
   "source": [
    "def put_bar()"
   ]
  }
 ],
 "metadata": {
  "kernelspec": {
   "display_name": "Python 3 (ipykernel)",
   "language": "python",
   "name": "python3"
  },
  "language_info": {
   "codemirror_mode": {
    "name": "ipython",
    "version": 3
   },
   "file_extension": ".py",
   "mimetype": "text/x-python",
   "name": "python",
   "nbconvert_exporter": "python",
   "pygments_lexer": "ipython3",
   "version": "3.11.5"
  },
  "toc": {
   "base_numbering": 1,
   "nav_menu": {},
   "number_sections": true,
   "sideBar": true,
   "skip_h1_title": false,
   "title_cell": "Table of Contents",
   "title_sidebar": "Contents",
   "toc_cell": false,
   "toc_position": {},
   "toc_section_display": true,
   "toc_window_display": false
  },
  "varInspector": {
   "cols": {
    "lenName": 16,
    "lenType": 16,
    "lenVar": 40
   },
   "kernels_config": {
    "python": {
     "delete_cmd_postfix": "",
     "delete_cmd_prefix": "del ",
     "library": "var_list.py",
     "varRefreshCmd": "print(var_dic_list())"
    },
    "r": {
     "delete_cmd_postfix": ") ",
     "delete_cmd_prefix": "rm(",
     "library": "var_list.r",
     "varRefreshCmd": "cat(var_dic_list()) "
    }
   },
   "types_to_exclude": [
    "module",
    "function",
    "builtin_function_or_method",
    "instance",
    "_Feature"
   ],
   "window_display": false
  }
 },
 "nbformat": 4,
 "nbformat_minor": 5
}
